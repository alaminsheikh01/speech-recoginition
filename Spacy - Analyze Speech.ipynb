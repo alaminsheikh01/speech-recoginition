{
 "cells": [
  {
   "cell_type": "code",
   "execution_count": 3,
   "id": "10a4ac74",
   "metadata": {},
   "outputs": [],
   "source": [
    "import spacy"
   ]
  },
  {
   "cell_type": "code",
   "execution_count": 4,
   "id": "98db1edb",
   "metadata": {},
   "outputs": [],
   "source": [
    "nlp = spacy.load('en_core_web_sm')"
   ]
  },
  {
   "cell_type": "code",
   "execution_count": 5,
   "id": "3eb7bf8f",
   "metadata": {},
   "outputs": [
    {
     "data": {
      "text/plain": [
       "[('tok2vec', <spacy.pipeline.tok2vec.Tok2Vec at 0x188adb01280>),\n",
       " ('tagger', <spacy.pipeline.tagger.Tagger at 0x188addd8d60>),\n",
       " ('parser', <spacy.pipeline.dep_parser.DependencyParser at 0x188ade6b040>),\n",
       " ('attribute_ruler',\n",
       "  <spacy.pipeline.attributeruler.AttributeRuler at 0x188ade7c040>),\n",
       " ('lemmatizer', <spacy.lang.en.lemmatizer.EnglishLemmatizer at 0x188ade78a00>),\n",
       " ('ner', <spacy.pipeline.ner.EntityRecognizer at 0x188ade6b190>)]"
      ]
     },
     "execution_count": 5,
     "metadata": {},
     "output_type": "execute_result"
    }
   ],
   "source": [
    "nlp.pipeline"
   ]
  },
  {
   "cell_type": "code",
   "execution_count": 6,
   "id": "0e7e62e2",
   "metadata": {},
   "outputs": [],
   "source": [
    "speech = \"\"\"I am honored to be with you today at your commencement from one of the \n",
    "finest universities in the world. I never graduated from college. Truth be told, t\n",
    "his is the closest I’ve ever gotten to a college graduation. Today I want to tell you \n",
    "three stories from my life. That’s it. No big deal. Just three stories.\"\"\""
   ]
  },
  {
   "cell_type": "code",
   "execution_count": 7,
   "id": "bc2d419a",
   "metadata": {},
   "outputs": [],
   "source": [
    "doc = nlp(speech)"
   ]
  },
  {
   "cell_type": "code",
   "execution_count": 8,
   "id": "ed0bd89e",
   "metadata": {},
   "outputs": [
    {
     "data": {
      "text/plain": [
       "I am honored to be with you today at your"
      ]
     },
     "execution_count": 8,
     "metadata": {},
     "output_type": "execute_result"
    }
   ],
   "source": [
    "doc[:10]"
   ]
  },
  {
   "cell_type": "code",
   "execution_count": 9,
   "id": "56c19fc9",
   "metadata": {},
   "outputs": [],
   "source": [
    "sentence = [sent for sent in doc.sents]"
   ]
  },
  {
   "cell_type": "code",
   "execution_count": 10,
   "id": "540188f0",
   "metadata": {},
   "outputs": [
    {
     "data": {
      "text/plain": [
       "[I am honored to be with you today at your commencement from one of the \n",
       " finest universities in the world.,\n",
       " I never graduated from college.,\n",
       " Truth be told, t\n",
       " his is the closest I’ve ever gotten to a college graduation.,\n",
       " Today I want to tell you \n",
       " three stories from my life.,\n",
       " That’s it.]"
      ]
     },
     "execution_count": 10,
     "metadata": {},
     "output_type": "execute_result"
    }
   ],
   "source": [
    "sentence[:5]"
   ]
  },
  {
   "cell_type": "code",
   "execution_count": 11,
   "id": "1f9c9cd7",
   "metadata": {},
   "outputs": [
    {
     "data": {
      "text/plain": [
       "7"
      ]
     },
     "execution_count": 11,
     "metadata": {},
     "output_type": "execute_result"
    }
   ],
   "source": [
    "len(sentence)"
   ]
  },
  {
   "cell_type": "code",
   "execution_count": 12,
   "id": "3c047c41",
   "metadata": {},
   "outputs": [],
   "source": [
    "words = [token.text for token in doc]"
   ]
  },
  {
   "cell_type": "code",
   "execution_count": 13,
   "id": "9e988ab3",
   "metadata": {},
   "outputs": [
    {
     "data": {
      "text/plain": [
       "['I', 'am', 'honored', 'to', 'be', 'with', 'you', 'today', 'at', 'your']"
      ]
     },
     "execution_count": 13,
     "metadata": {},
     "output_type": "execute_result"
    }
   ],
   "source": [
    "words[:10]"
   ]
  },
  {
   "cell_type": "code",
   "execution_count": 14,
   "id": "c3d81856",
   "metadata": {},
   "outputs": [
    {
     "data": {
      "text/plain": [
       "72"
      ]
     },
     "execution_count": 14,
     "metadata": {},
     "output_type": "execute_result"
    }
   ],
   "source": [
    "len(words)"
   ]
  },
  {
   "cell_type": "code",
   "execution_count": 15,
   "id": "dff9b6da",
   "metadata": {},
   "outputs": [
    {
     "data": {
      "text/plain": [
       "50"
      ]
     },
     "execution_count": 15,
     "metadata": {},
     "output_type": "execute_result"
    }
   ],
   "source": [
    "len(set(words))"
   ]
  },
  {
   "cell_type": "code",
   "execution_count": 16,
   "id": "9366b824",
   "metadata": {},
   "outputs": [],
   "source": [
    "lammatized_words = [token.lemma_ for token in doc]"
   ]
  },
  {
   "cell_type": "code",
   "execution_count": 17,
   "id": "b08d3962",
   "metadata": {},
   "outputs": [
    {
     "data": {
      "text/plain": [
       "['I', 'be', 'honor', 'to', 'be', 'with', 'you', 'today', 'at', 'your']"
      ]
     },
     "execution_count": 17,
     "metadata": {},
     "output_type": "execute_result"
    }
   ],
   "source": [
    "lammatized_words[:10]"
   ]
  },
  {
   "cell_type": "code",
   "execution_count": 18,
   "id": "fd2f4905",
   "metadata": {},
   "outputs": [
    {
     "data": {
      "text/plain": [
       "72"
      ]
     },
     "execution_count": 18,
     "metadata": {},
     "output_type": "execute_result"
    }
   ],
   "source": [
    "len(lammatized_words)"
   ]
  },
  {
   "cell_type": "code",
   "execution_count": 19,
   "id": "52602f21",
   "metadata": {},
   "outputs": [
    {
     "name": "stdout",
     "output_type": "stream",
     "text": [
      "{'besides', 'even', 'regarding', 'she', 'more', \"'re\", 'sixty', 'under', 'empty', 'though', 'become', 'you', 'yours', 'still', 'beforehand', 'well', 'fifteen', 'move', 'hence', 'everyone', \"n't\", 'between', 'while', 'ourselves', 'beside', 'at', 'from', 'or', 'take', 'now', 'their', 'whoever', 'than', 'therein', 'afterwards', 'nothing', 'because', 'alone', 'anyway', 'make', 'various', 'enough', 'it', 'of', 'get', 'keep', 'against', 'thereafter', 'moreover', 'only', 'whose', 'other', 'somewhere', 'mostly', 'sometime', 'same', 'unless', 'much', 'his', 'except', 'formerly', 'can', 'is', 'onto', '‘re', 'whom', 'me', 're', 'say', 'few', 'six', 'namely', 'whatever', '’re', 'very', 'am', 'however', 'these', 'without', 'an', 'over', 'per', 'used', 'first', 'n‘t', 'please', 'further', 'for', 'too', 'themselves', 'everywhere', 'as', 'since', 'again', \"'d\", 'he', 'side', 'give', 'every', 'do', 'there', 'thence', 'any', 'show', 'latter', 'anyhow', 'him', 'else', 'are', '‘ve', 'doing', 'put', 'up', 'none', '‘s', 'across', 'not', 'himself', 'thereupon', 'whether', 'herself', 'least', 'must', 'elsewhere', 'why', 'below', 'cannot', 'already', '’ll', 'see', \"'ll\", 'could', 'although', 'former', 'but', 'due', '’s', 'being', 'one', 'upon', 'everything', 'yourselves', 'whereas', 'indeed', \"'ve\", 'might', 'into', 'until', 'yet', 'nowhere', 'noone', 'third', 'forty', 'back', 'made', 'front', 'was', 'whereafter', 'whereupon', 'whole', 'really', 'eleven', 'towards', 'ca', 'then', 'just', 'by', 'therefore', 'no', 'amongst', 'have', 'hers', 'here', 'full', 'nor', 'anything', 'off', 'and', 'this', 'hereupon', \"'s\", 'within', 'also', 'thereby', \"'m\", 'others', 'on', 'never', 'yourself', 'five', 'seeming', 'they', 'either', 'nobody', 'each', 'last', 'those', 'along', 'several', 'top', 'nine', 'twenty', '‘m', 'wherein', 'less', 'our', 'her', 'did', 'thus', 'that', 'among', 'down', 'whither', 'been', 'its', 'some', 'anywhere', '’ve', 'call', 'another', 'twelve', 'serious', 'often', 'four', 'the', 'would', 'many', 'rather', 'to', 'in', 'name', 'both', 'where', 'will', 'most', 'hereby', 'seems', 'we', 'perhaps', 'becomes', 'throughout', 'something', 'were', 'amount', 'bottom', '‘d', 'thru', 'somehow', 'out', 'has', 'what', 'i', 'latterly', 'toward', 'seem', 'your', 'us', 'neither', 'be', 'a', 'ours', 'sometimes', 'almost', 'mine', 'my', 'how', 'had', 'otherwise', 'them', 'once', 'three', 'before', 'so', 'anyone', 'about', 'eight', 'through', '‘ll', 'who', 'herein', 'ever', 'may', 'when', 'together', 'via', 'n’t', 'above', 'using', 'with', 'always', 'should', 'quite', 'does', 'whenever', '’d', 'wherever', '’m', 'meanwhile', 'seemed', 'own', 'whereby', 'became', 'someone', 'fifty', 'hundred', 'during', 'done', 'myself', 'such', 'nevertheless', 'itself', 'hereafter', 'all', 'ten', 'becoming', 'behind', 'beyond', 'if', 'two', 'around', 'go', 'after', 'which', 'whence', 'next', 'part'}\n"
     ]
    }
   ],
   "source": [
    "print(nlp.Defaults.stop_words)"
   ]
  },
  {
   "cell_type": "code",
   "execution_count": 20,
   "id": "78028d02",
   "metadata": {},
   "outputs": [
    {
     "data": {
      "text/plain": [
       "326"
      ]
     },
     "execution_count": 20,
     "metadata": {},
     "output_type": "execute_result"
    }
   ],
   "source": [
    "len(nlp.Defaults.stop_words)"
   ]
  },
  {
   "cell_type": "code",
   "execution_count": 21,
   "id": "ed9d2128",
   "metadata": {},
   "outputs": [],
   "source": [
    "#remove stop words\n",
    "nlp.Defaults.stop_words.remove('indeed')"
   ]
  },
  {
   "cell_type": "code",
   "execution_count": 22,
   "id": "8191af28",
   "metadata": {},
   "outputs": [
    {
     "data": {
      "text/plain": [
       "325"
      ]
     },
     "execution_count": 22,
     "metadata": {},
     "output_type": "execute_result"
    }
   ],
   "source": [
    "len(nlp.Defaults.stop_words)"
   ]
  },
  {
   "cell_type": "code",
   "execution_count": 23,
   "id": "ce40c7b5",
   "metadata": {},
   "outputs": [],
   "source": [
    "nlp.Defaults.stop_words.remove('six')"
   ]
  },
  {
   "cell_type": "code",
   "execution_count": 25,
   "id": "f2fc9fff",
   "metadata": {},
   "outputs": [
    {
     "data": {
      "text/plain": [
       "324"
      ]
     },
     "execution_count": 25,
     "metadata": {},
     "output_type": "execute_result"
    }
   ],
   "source": [
    "len(nlp.Defaults.stop_words)"
   ]
  },
  {
   "cell_type": "code",
   "execution_count": 27,
   "id": "61c4274f",
   "metadata": {},
   "outputs": [
    {
     "data": {
      "text/plain": [
       "False"
      ]
     },
     "execution_count": 27,
     "metadata": {},
     "output_type": "execute_result"
    }
   ],
   "source": [
    "nlp.vocab['indeed'].is_stop"
   ]
  },
  {
   "cell_type": "code",
   "execution_count": null,
   "id": "43c2f963",
   "metadata": {},
   "outputs": [],
   "source": []
  }
 ],
 "metadata": {
  "kernelspec": {
   "display_name": "Python 3",
   "language": "python",
   "name": "python3"
  },
  "language_info": {
   "codemirror_mode": {
    "name": "ipython",
    "version": 3
   },
   "file_extension": ".py",
   "mimetype": "text/x-python",
   "name": "python",
   "nbconvert_exporter": "python",
   "pygments_lexer": "ipython3",
   "version": "3.8.8"
  }
 },
 "nbformat": 4,
 "nbformat_minor": 5
}
