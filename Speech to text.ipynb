{
 "cells": [
  {
   "cell_type": "code",
   "execution_count": null,
   "id": "7e8080cc",
   "metadata": {},
   "outputs": [],
   "source": [
    "import speech_recognition as sr"
   ]
  },
  {
   "cell_type": "code",
   "execution_count": 2,
   "id": "e10765a6",
   "metadata": {},
   "outputs": [],
   "source": [
    "r = sr.Recognizer()"
   ]
  },
  {
   "cell_type": "code",
   "execution_count": null,
   "id": "a765f038",
   "metadata": {},
   "outputs": [
    {
     "name": "stdout",
     "output_type": "stream",
     "text": [
      "Speak now.\n",
      "please say again\n",
      "Speak now.\n",
      "please say again\n",
      "Speak now.\n",
      "please say again\n",
      "Speak now.\n",
      "please say again\n",
      "Speak now.\n",
      "please say again\n",
      "Speak now.\n"
     ]
    }
   ],
   "source": [
    "while True:\n",
    "    with sr.Microphone() as source:\n",
    "        r.adjust_for_ambient_noise(source, duration=0.3)\n",
    "        print(\"Speak now.\")\n",
    "        audio = r.listen(source)\n",
    "        \n",
    "        try:\n",
    "            text = r.recognize_google(audio)\n",
    "            print('Speaker: ', text)\n",
    "            if text == 'quit':\n",
    "                break\n",
    "            #print('finised!')    \n",
    "        except:\n",
    "            print(\"please say again\")"
   ]
  },
  {
   "cell_type": "code",
   "execution_count": null,
   "id": "9822d5fd",
   "metadata": {},
   "outputs": [],
   "source": []
  }
 ],
 "metadata": {
  "kernelspec": {
   "display_name": "Python 3",
   "language": "python",
   "name": "python3"
  },
  "language_info": {
   "codemirror_mode": {
    "name": "ipython",
    "version": 3
   },
   "file_extension": ".py",
   "mimetype": "text/x-python",
   "name": "python",
   "nbconvert_exporter": "python",
   "pygments_lexer": "ipython3",
   "version": "3.7.10"
  }
 },
 "nbformat": 4,
 "nbformat_minor": 5
}
