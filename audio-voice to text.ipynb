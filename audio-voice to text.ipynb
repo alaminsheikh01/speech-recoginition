{
 "cells": [
  {
   "cell_type": "code",
   "execution_count": 31,
   "id": "b4366519",
   "metadata": {
    "scrolled": false
   },
   "outputs": [
    {
     "name": "stdout",
     "output_type": "stream",
     "text": [
      "C:\\Users\\alami\\OneDrive\\Desktop\\Speech recognition thesis\\audio\\1.wav\n",
      "C:\\Users\\alami\\OneDrive\\Desktop\\Speech recognition thesis\\audio\\e1.wav\n",
      "C:\\Users\\alami\\OneDrive\\Desktop\\Speech recognition thesis\\audio\\e2.ogg\n",
      "C:\\Users\\alami\\OneDrive\\Desktop\\Speech recognition thesis\\audio\\e2.wav\n",
      "C:\\Users\\alami\\OneDrive\\Desktop\\Speech recognition thesis\\audio\\ima.mp3\n",
      "C:\\Users\\alami\\OneDrive\\Desktop\\Speech recognition thesis\\audio\\ima.wav\n"
     ]
    }
   ],
   "source": [
    "import os\n",
    "for dirname, _, filenames in os.walk(r'C:\\Users\\alami\\OneDrive\\Desktop\\Speech recognition thesis\\audio'):\n",
    "    for filename in filenames:\n",
    "        print(os.path.join(dirname, filename))"
   ]
  },
  {
   "cell_type": "code",
   "execution_count": 32,
   "id": "52fbdad2",
   "metadata": {},
   "outputs": [],
   "source": [
    "import speech_recognition as sr"
   ]
  },
  {
   "cell_type": "code",
   "execution_count": 33,
   "id": "5ef78363",
   "metadata": {},
   "outputs": [],
   "source": [
    "# Initializing recognizer class (for recognizing the speech)\n",
    "r = sr.Recognizer()"
   ]
  },
  {
   "cell_type": "code",
   "execution_count": 43,
   "id": "94e20482",
   "metadata": {},
   "outputs": [],
   "source": [
    "# Locating audio file\n",
    "audio = r'C:\\Users\\alami\\OneDrive\\Desktop\\Speech recognition thesis\\audio\\e1.wav'"
   ]
  },
  {
   "cell_type": "code",
   "execution_count": 44,
   "id": "615e06fd",
   "metadata": {},
   "outputs": [],
   "source": [
    "# Reading Audio file as source\n",
    "# listening the audio file and store in audio_text variable\n",
    "with sr.AudioFile(audio) as source:\n",
    "    \n",
    "    audio_text = r.listen(source)"
   ]
  },
  {
   "cell_type": "code",
   "execution_count": 45,
   "id": "b19e0c72",
   "metadata": {},
   "outputs": [
    {
     "name": "stdout",
     "output_type": "stream",
     "text": [
      "Converting audio transcripts into text ...\n",
      "my name is Al Amin Sheikh I am student from American International University Bangladesh thank you\n",
      "done\n"
     ]
    }
   ],
   "source": [
    "# recoginize_() method will throw a request error if the API is unreachable, hence using exception handling\n",
    "try:\n",
    "        \n",
    "    # using google speech recognition\n",
    "    text = r.recognize_google(audio_text)\n",
    "    print('Converting audio transcripts into text ...')\n",
    "    print(text)\n",
    "    print('done')\n",
    "     \n",
    "except:\n",
    "    print('Sorry.. run again...')"
   ]
  },
  {
   "cell_type": "code",
   "execution_count": null,
   "id": "0f8be7b5",
   "metadata": {},
   "outputs": [],
   "source": []
  }
 ],
 "metadata": {
  "kernelspec": {
   "display_name": "Python 3",
   "language": "python",
   "name": "python3"
  },
  "language_info": {
   "codemirror_mode": {
    "name": "ipython",
    "version": 3
   },
   "file_extension": ".py",
   "mimetype": "text/x-python",
   "name": "python",
   "nbconvert_exporter": "python",
   "pygments_lexer": "ipython3",
   "version": "3.7.10"
  }
 },
 "nbformat": 4,
 "nbformat_minor": 5
}
