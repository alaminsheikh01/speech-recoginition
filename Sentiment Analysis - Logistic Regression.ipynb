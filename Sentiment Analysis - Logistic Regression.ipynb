{
 "cells": [
  {
   "cell_type": "code",
   "execution_count": 2,
   "id": "9d00dc96",
   "metadata": {},
   "outputs": [],
   "source": [
    "import nltk"
   ]
  },
  {
   "cell_type": "code",
   "execution_count": 3,
   "id": "695b1b35",
   "metadata": {},
   "outputs": [],
   "source": [
    "from nltk.corpus import twitter_samples"
   ]
  },
  {
   "cell_type": "code",
   "execution_count": 4,
   "id": "5f51e959",
   "metadata": {},
   "outputs": [
    {
     "name": "stderr",
     "output_type": "stream",
     "text": [
      "[nltk_data] Downloading package twitter_samples to\n",
      "[nltk_data]     C:\\Users\\alami\\AppData\\Roaming\\nltk_data...\n",
      "[nltk_data]   Package twitter_samples is already up-to-date!\n"
     ]
    },
    {
     "data": {
      "text/plain": [
       "True"
      ]
     },
     "execution_count": 4,
     "metadata": {},
     "output_type": "execute_result"
    }
   ],
   "source": [
    "nltk.download('twitter_samples')"
   ]
  },
  {
   "cell_type": "code",
   "execution_count": 5,
   "id": "53a40d17",
   "metadata": {},
   "outputs": [],
   "source": [
    "positive_tweets = twitter_samples.strings('positive_tweets.json')"
   ]
  },
  {
   "cell_type": "code",
   "execution_count": 6,
   "id": "780eb37f",
   "metadata": {},
   "outputs": [],
   "source": [
    "negative_tweets = twitter_samples.strings('negative_tweets.json')"
   ]
  },
  {
   "cell_type": "code",
   "execution_count": 7,
   "id": "2d28c0c0",
   "metadata": {},
   "outputs": [
    {
     "data": {
      "text/plain": [
       "5000"
      ]
     },
     "execution_count": 7,
     "metadata": {},
     "output_type": "execute_result"
    }
   ],
   "source": [
    "len(positive_tweets)"
   ]
  },
  {
   "cell_type": "code",
   "execution_count": 8,
   "id": "e61f98c6",
   "metadata": {},
   "outputs": [
    {
     "data": {
      "text/plain": [
       "5000"
      ]
     },
     "execution_count": 8,
     "metadata": {},
     "output_type": "execute_result"
    }
   ],
   "source": [
    "len(negative_tweets)"
   ]
  },
  {
   "cell_type": "code",
   "execution_count": 9,
   "id": "d202a6ba",
   "metadata": {},
   "outputs": [
    {
     "data": {
      "text/plain": [
       "['#FollowFriday @France_Inte @PKuchly57 @Milipol_Paris for being top engaged members in my community this week :)',\n",
       " '@Lamb2ja Hey James! How odd :/ Please call our Contact Centre on 02392441234 and we will be able to assist you :) Many thanks!',\n",
       " '@DespiteOfficial we had a listen last night :) As You Bleed is an amazing track. When are you in Scotland?!',\n",
       " '@97sides CONGRATS :)',\n",
       " 'yeaaaah yippppy!!!  my accnt verified rqst has succeed got a blue tick mark on my fb profile :) in 15 days',\n",
       " '@BhaktisBanter @PallaviRuhail This one is irresistible :)\\n#FlipkartFashionFriday http://t.co/EbZ0L2VENM',\n",
       " \"We don't like to keep our lovely customers waiting for long! We hope you enjoy! Happy Friday! - LWWF :) https://t.co/smyYriipxI\",\n",
       " '@Impatientraider On second thought, there’s just not enough time for a DD :) But new shorts entering system. Sheep must be buying.',\n",
       " 'Jgh , but we have to go to Bayan :D bye',\n",
       " 'As an act of mischievousness, am calling the ETL layer of our in-house warehousing app Katamari.\\n\\nWell… as the name implies :p.']"
      ]
     },
     "execution_count": 9,
     "metadata": {},
     "output_type": "execute_result"
    }
   ],
   "source": [
    "positive_tweets[:10]"
   ]
  },
  {
   "cell_type": "code",
   "execution_count": 10,
   "id": "00f8b157",
   "metadata": {},
   "outputs": [],
   "source": [
    "import re"
   ]
  },
  {
   "cell_type": "code",
   "execution_count": 11,
   "id": "08ae4280",
   "metadata": {},
   "outputs": [],
   "source": [
    "tweet = positive_tweets[5]"
   ]
  },
  {
   "cell_type": "code",
   "execution_count": 12,
   "id": "7b00d557",
   "metadata": {},
   "outputs": [
    {
     "data": {
      "text/plain": [
       "'@BhaktisBanter @PallaviRuhail This one is irresistible :)\\n#FlipkartFashionFriday http://t.co/EbZ0L2VENM'"
      ]
     },
     "execution_count": 12,
     "metadata": {},
     "output_type": "execute_result"
    }
   ],
   "source": [
    "tweet"
   ]
  },
  {
   "cell_type": "code",
   "execution_count": 13,
   "id": "2a07a313",
   "metadata": {},
   "outputs": [],
   "source": [
    "tweet =  re.sub(r'(http|https)?:\\/\\/.*[\\r\\n]*', '', tweet)"
   ]
  },
  {
   "cell_type": "code",
   "execution_count": 14,
   "id": "188736fe",
   "metadata": {},
   "outputs": [
    {
     "data": {
      "text/plain": [
       "'@BhaktisBanter @PallaviRuhail This one is irresistible :)\\n#FlipkartFashionFriday '"
      ]
     },
     "execution_count": 14,
     "metadata": {},
     "output_type": "execute_result"
    }
   ],
   "source": [
    "tweet"
   ]
  },
  {
   "cell_type": "code",
   "execution_count": 15,
   "id": "5b4e8e87",
   "metadata": {},
   "outputs": [],
   "source": [
    "tweet = re.sub(r'#', '', tweet)"
   ]
  },
  {
   "cell_type": "code",
   "execution_count": 16,
   "id": "f34c1c7a",
   "metadata": {},
   "outputs": [
    {
     "data": {
      "text/plain": [
       "'@BhaktisBanter @PallaviRuhail This one is irresistible :)\\nFlipkartFashionFriday '"
      ]
     },
     "execution_count": 16,
     "metadata": {},
     "output_type": "execute_result"
    }
   ],
   "source": [
    "tweet"
   ]
  },
  {
   "cell_type": "code",
   "execution_count": 17,
   "id": "c2264291",
   "metadata": {},
   "outputs": [],
   "source": [
    "tweet = re.sub(r'\\n', ' ', tweet)"
   ]
  },
  {
   "cell_type": "code",
   "execution_count": 18,
   "id": "90c87a6b",
   "metadata": {},
   "outputs": [
    {
     "data": {
      "text/plain": [
       "'@BhaktisBanter @PallaviRuhail This one is irresistible :) FlipkartFashionFriday '"
      ]
     },
     "execution_count": 18,
     "metadata": {},
     "output_type": "execute_result"
    }
   ],
   "source": [
    "tweet"
   ]
  },
  {
   "cell_type": "code",
   "execution_count": 19,
   "id": "62fe3f75",
   "metadata": {},
   "outputs": [],
   "source": [
    "tweet = re.sub(r'@\\w+ ', '', tweet)"
   ]
  },
  {
   "cell_type": "code",
   "execution_count": 20,
   "id": "d3effaf8",
   "metadata": {},
   "outputs": [
    {
     "data": {
      "text/plain": [
       "'This one is irresistible :) FlipkartFashionFriday '"
      ]
     },
     "execution_count": 20,
     "metadata": {},
     "output_type": "execute_result"
    }
   ],
   "source": [
    "tweet"
   ]
  },
  {
   "cell_type": "code",
   "execution_count": 21,
   "id": "7a40cf67",
   "metadata": {},
   "outputs": [],
   "source": [
    "tweet = tweet.lower()"
   ]
  },
  {
   "cell_type": "code",
   "execution_count": 22,
   "id": "eb66f333",
   "metadata": {},
   "outputs": [
    {
     "data": {
      "text/plain": [
       "'this one is irresistible :) flipkartfashionfriday '"
      ]
     },
     "execution_count": 22,
     "metadata": {},
     "output_type": "execute_result"
    }
   ],
   "source": [
    "tweet"
   ]
  },
  {
   "cell_type": "markdown",
   "id": "159ba26b",
   "metadata": {},
   "source": [
    "## tweet tokenizer"
   ]
  },
  {
   "cell_type": "code",
   "execution_count": 23,
   "id": "66fd6e2e",
   "metadata": {},
   "outputs": [],
   "source": [
    "from nltk.tokenize import TweetTokenizer"
   ]
  },
  {
   "cell_type": "code",
   "execution_count": 24,
   "id": "a2c2a329",
   "metadata": {},
   "outputs": [],
   "source": [
    "tokenizer = TweetTokenizer()"
   ]
  },
  {
   "cell_type": "code",
   "execution_count": 25,
   "id": "a5bcc1e5",
   "metadata": {},
   "outputs": [],
   "source": [
    "tokens = tokenizer.tokenize(tweet)"
   ]
  },
  {
   "cell_type": "code",
   "execution_count": 26,
   "id": "280a8917",
   "metadata": {},
   "outputs": [
    {
     "data": {
      "text/plain": [
       "['this', 'one', 'is', 'irresistible', ':)', 'flipkartfashionfriday']"
      ]
     },
     "execution_count": 26,
     "metadata": {},
     "output_type": "execute_result"
    }
   ],
   "source": [
    "tokens"
   ]
  },
  {
   "cell_type": "code",
   "execution_count": 27,
   "id": "5e574991",
   "metadata": {},
   "outputs": [],
   "source": [
    "from nltk.corpus import stopwords"
   ]
  },
  {
   "cell_type": "code",
   "execution_count": 29,
   "id": "880639c3",
   "metadata": {},
   "outputs": [
    {
     "name": "stderr",
     "output_type": "stream",
     "text": [
      "[nltk_data] Downloading package stopwords to\n",
      "[nltk_data]     C:\\Users\\alami\\AppData\\Roaming\\nltk_data...\n",
      "[nltk_data]   Unzipping corpora\\stopwords.zip.\n"
     ]
    },
    {
     "data": {
      "text/plain": [
       "True"
      ]
     },
     "execution_count": 29,
     "metadata": {},
     "output_type": "execute_result"
    }
   ],
   "source": [
    "nltk.download('stopwords')"
   ]
  },
  {
   "cell_type": "code",
   "execution_count": 30,
   "id": "b633e305",
   "metadata": {},
   "outputs": [
    {
     "name": "stdout",
     "output_type": "stream",
     "text": [
      "['i', 'me', 'my', 'myself', 'we', 'our', 'ours', 'ourselves', 'you', \"you're\", \"you've\", \"you'll\", \"you'd\", 'your', 'yours', 'yourself', 'yourselves', 'he', 'him', 'his', 'himself', 'she', \"she's\", 'her', 'hers', 'herself', 'it', \"it's\", 'its', 'itself', 'they', 'them', 'their', 'theirs', 'themselves', 'what', 'which', 'who', 'whom', 'this', 'that', \"that'll\", 'these', 'those', 'am', 'is', 'are', 'was', 'were', 'be', 'been', 'being', 'have', 'has', 'had', 'having', 'do', 'does', 'did', 'doing', 'a', 'an', 'the', 'and', 'but', 'if', 'or', 'because', 'as', 'until', 'while', 'of', 'at', 'by', 'for', 'with', 'about', 'against', 'between', 'into', 'through', 'during', 'before', 'after', 'above', 'below', 'to', 'from', 'up', 'down', 'in', 'out', 'on', 'off', 'over', 'under', 'again', 'further', 'then', 'once', 'here', 'there', 'when', 'where', 'why', 'how', 'all', 'any', 'both', 'each', 'few', 'more', 'most', 'other', 'some', 'such', 'no', 'nor', 'not', 'only', 'own', 'same', 'so', 'than', 'too', 'very', 's', 't', 'can', 'will', 'just', 'don', \"don't\", 'should', \"should've\", 'now', 'd', 'll', 'm', 'o', 're', 've', 'y', 'ain', 'aren', \"aren't\", 'couldn', \"couldn't\", 'didn', \"didn't\", 'doesn', \"doesn't\", 'hadn', \"hadn't\", 'hasn', \"hasn't\", 'haven', \"haven't\", 'isn', \"isn't\", 'ma', 'mightn', \"mightn't\", 'mustn', \"mustn't\", 'needn', \"needn't\", 'shan', \"shan't\", 'shouldn', \"shouldn't\", 'wasn', \"wasn't\", 'weren', \"weren't\", 'won', \"won't\", 'wouldn', \"wouldn't\"]\n"
     ]
    }
   ],
   "source": [
    "print(stopwords.words('english'))"
   ]
  },
  {
   "cell_type": "code",
   "execution_count": 31,
   "id": "4d2ad9df",
   "metadata": {},
   "outputs": [],
   "source": [
    "tokens = [token for token in tokens if token not in stopwords.words('english')]"
   ]
  },
  {
   "cell_type": "code",
   "execution_count": 32,
   "id": "6ed8de3d",
   "metadata": {},
   "outputs": [
    {
     "data": {
      "text/plain": [
       "['one', 'irresistible', ':)', 'flipkartfashionfriday']"
      ]
     },
     "execution_count": 32,
     "metadata": {},
     "output_type": "execute_result"
    }
   ],
   "source": [
    "tokens"
   ]
  },
  {
   "cell_type": "code",
   "execution_count": 33,
   "id": "1aa6eb29",
   "metadata": {},
   "outputs": [],
   "source": [
    "from nltk.stem import PorterStemmer"
   ]
  },
  {
   "cell_type": "code",
   "execution_count": 35,
   "id": "4eb12c4a",
   "metadata": {},
   "outputs": [],
   "source": [
    "stemmer = PorterStemmer()"
   ]
  },
  {
   "cell_type": "code",
   "execution_count": 36,
   "id": "7aca1fe7",
   "metadata": {},
   "outputs": [],
   "source": [
    "tokens = [stemmer.stem(token) for token in tokens]"
   ]
  },
  {
   "cell_type": "code",
   "execution_count": 37,
   "id": "0d2d17ab",
   "metadata": {},
   "outputs": [
    {
     "data": {
      "text/plain": [
       "['one', 'irresist', ':)', 'flipkartfashionfriday']"
      ]
     },
     "execution_count": 37,
     "metadata": {},
     "output_type": "execute_result"
    }
   ],
   "source": [
    "tokens"
   ]
  },
  {
   "cell_type": "code",
   "execution_count": 40,
   "id": "d2ddff2c",
   "metadata": {},
   "outputs": [
    {
     "name": "stdout",
     "output_type": "stream",
     "text": [
      "!\"#$%&'()*+,-./:;<=>?@[\\]^_`{|}~\n"
     ]
    }
   ],
   "source": [
    "import string \n",
    "print (string.punctuation) "
   ]
  },
  {
   "cell_type": "code",
   "execution_count": 42,
   "id": "766f7de0",
   "metadata": {},
   "outputs": [],
   "source": [
    "def process_tweet(tweet, tokenizer,stemmer):\n",
    "    tweet = re.sub(r'(http|https)?:\\/\\/.*[\\r\\n]*', '', tweet)\n",
    "    tweet = re.sub(r'#','', tweet)\n",
    "    tweet = re.sub(r'\\n', ' ', tweet)\n",
    "    tweet = re.sub(r'@\\w+ ', '', tweet)\n",
    "    tweet = tweet.lower()\n",
    "    tokens = tokenizer.tokenize(tweet)\n",
    "    tokens = [token for token in tokens if token not in stopwords.words('english')]\n",
    "    tokens = [token for token in tokens if token not in string.punctuation]\n",
    "    tokens = [stemmer.stem(token) for token in tokens]\n",
    "    return tokens\n",
    "    "
   ]
  },
  {
   "cell_type": "code",
   "execution_count": 47,
   "id": "d9ba3513",
   "metadata": {},
   "outputs": [
    {
     "data": {
      "text/plain": [
       "['listen', 'last', 'night', ':)', 'bleed', 'amaz', 'track', 'scotland']"
      ]
     },
     "execution_count": 47,
     "metadata": {},
     "output_type": "execute_result"
    }
   ],
   "source": [
    "process_tweet(positive_tweets[2], tokenizer, stemmer)"
   ]
  },
  {
   "cell_type": "code",
   "execution_count": 48,
   "id": "dbeb4268",
   "metadata": {},
   "outputs": [],
   "source": [
    "import numpy as np"
   ]
  },
  {
   "cell_type": "code",
   "execution_count": 49,
   "id": "a6821ec8",
   "metadata": {},
   "outputs": [
    {
     "data": {
      "text/plain": [
       "array([1., 1., 1., 1., 1., 1., 1., 1., 1., 1.])"
      ]
     },
     "execution_count": 49,
     "metadata": {},
     "output_type": "execute_result"
    }
   ],
   "source": [
    "np.ones(10)"
   ]
  },
  {
   "cell_type": "code",
   "execution_count": 51,
   "id": "0e78da61",
   "metadata": {},
   "outputs": [
    {
     "data": {
      "text/plain": [
       "array([0., 0., 0., 0., 0.])"
      ]
     },
     "execution_count": 51,
     "metadata": {},
     "output_type": "execute_result"
    }
   ],
   "source": [
    "np.zeros(5)"
   ]
  },
  {
   "cell_type": "code",
   "execution_count": 56,
   "id": "0d5138c6",
   "metadata": {},
   "outputs": [],
   "source": [
    "labels =  np.append(np.ones(5000), np.zeros(5000))"
   ]
  },
  {
   "cell_type": "code",
   "execution_count": 57,
   "id": "dd1c63e1",
   "metadata": {},
   "outputs": [
    {
     "data": {
      "text/plain": [
       "10000"
      ]
     },
     "execution_count": 57,
     "metadata": {},
     "output_type": "execute_result"
    }
   ],
   "source": [
    "len(labels)"
   ]
  },
  {
   "cell_type": "code",
   "execution_count": 58,
   "id": "3cd5068a",
   "metadata": {
    "scrolled": true
   },
   "outputs": [
    {
     "data": {
      "text/plain": [
       "array([1., 1., 1., ..., 0., 0., 0.])"
      ]
     },
     "execution_count": 58,
     "metadata": {},
     "output_type": "execute_result"
    }
   ],
   "source": [
    "labels"
   ]
  },
  {
   "cell_type": "code",
   "execution_count": 60,
   "id": "5ffdc328",
   "metadata": {},
   "outputs": [],
   "source": [
    "labels = np.array([labels])"
   ]
  },
  {
   "cell_type": "code",
   "execution_count": 61,
   "id": "43e7d722",
   "metadata": {},
   "outputs": [
    {
     "data": {
      "text/plain": [
       "array([[1., 1., 1., ..., 0., 0., 0.]])"
      ]
     },
     "execution_count": 61,
     "metadata": {},
     "output_type": "execute_result"
    }
   ],
   "source": [
    "labels"
   ]
  },
  {
   "cell_type": "code",
   "execution_count": 63,
   "id": "f608fec9",
   "metadata": {},
   "outputs": [],
   "source": [
    "labels = labels.T"
   ]
  },
  {
   "cell_type": "code",
   "execution_count": 64,
   "id": "4d9bc629",
   "metadata": {},
   "outputs": [
    {
     "data": {
      "text/plain": [
       "array([[1.],\n",
       "       [1.],\n",
       "       [1.],\n",
       "       ...,\n",
       "       [0.],\n",
       "       [0.],\n",
       "       [0.]])"
      ]
     },
     "execution_count": 64,
     "metadata": {},
     "output_type": "execute_result"
    }
   ],
   "source": [
    "labels"
   ]
  },
  {
   "cell_type": "code",
   "execution_count": 65,
   "id": "ac90b020",
   "metadata": {},
   "outputs": [],
   "source": [
    "tweets = positive_tweets + negative_tweets"
   ]
  },
  {
   "cell_type": "code",
   "execution_count": 66,
   "id": "04de89b2",
   "metadata": {},
   "outputs": [
    {
     "data": {
      "text/plain": [
       "10000"
      ]
     },
     "execution_count": 66,
     "metadata": {},
     "output_type": "execute_result"
    }
   ],
   "source": [
    "len(tweets)"
   ]
  },
  {
   "cell_type": "code",
   "execution_count": 67,
   "id": "64d750d2",
   "metadata": {},
   "outputs": [],
   "source": [
    "tweets = np.array([tweets])"
   ]
  },
  {
   "cell_type": "code",
   "execution_count": 68,
   "id": "b68ce0ea",
   "metadata": {},
   "outputs": [],
   "source": [
    "tweets = tweets.T"
   ]
  },
  {
   "cell_type": "code",
   "execution_count": 69,
   "id": "7d45964d",
   "metadata": {},
   "outputs": [
    {
     "data": {
      "text/plain": [
       "array([['#FollowFriday @France_Inte @PKuchly57 @Milipol_Paris for being top engaged members in my community this week :)'],\n",
       "       ['@Lamb2ja Hey James! How odd :/ Please call our Contact Centre on 02392441234 and we will be able to assist you :) Many thanks!'],\n",
       "       ['@DespiteOfficial we had a listen last night :) As You Bleed is an amazing track. When are you in Scotland?!'],\n",
       "       ...,\n",
       "       [\"where's all the jaebum baby pictures :((\"],\n",
       "       ['But but Mr Ahmad Maslan cooks too :( https://t.co/ArCiD31Zv6'],\n",
       "       ['@eawoman As a Hull supporter I am expecting a misserable few weeks :-(']],\n",
       "      dtype='<U152')"
      ]
     },
     "execution_count": 69,
     "metadata": {},
     "output_type": "execute_result"
    }
   ],
   "source": [
    "tweets"
   ]
  },
  {
   "cell_type": "code",
   "execution_count": 70,
   "id": "d448ee8f",
   "metadata": {},
   "outputs": [
    {
     "data": {
      "text/plain": [
       "(10000, 1)"
      ]
     },
     "execution_count": 70,
     "metadata": {},
     "output_type": "execute_result"
    }
   ],
   "source": [
    "tweets.shape"
   ]
  },
  {
   "cell_type": "code",
   "execution_count": 71,
   "id": "949b1176",
   "metadata": {},
   "outputs": [
    {
     "data": {
      "text/plain": [
       "(10000, 1)"
      ]
     },
     "execution_count": 71,
     "metadata": {},
     "output_type": "execute_result"
    }
   ],
   "source": [
    "labels.shape"
   ]
  },
  {
   "cell_type": "code",
   "execution_count": 72,
   "id": "ed4ffc55",
   "metadata": {},
   "outputs": [],
   "source": [
    "from sklearn.model_selection import train_test_split"
   ]
  },
  {
   "cell_type": "code",
   "execution_count": 73,
   "id": "a0f2160e",
   "metadata": {},
   "outputs": [],
   "source": [
    "X_train, X_test, y_train, y_test =  train_test_split(tweets, labels, test_size=0.3)"
   ]
  },
  {
   "cell_type": "code",
   "execution_count": 74,
   "id": "f259d25b",
   "metadata": {},
   "outputs": [
    {
     "data": {
      "text/plain": [
       "array([['DCI today, now I wish I was going :-('],\n",
       "       ['@Omar_Omark thanks omar :)'],\n",
       "       [\"Unfortunately today's performances at Pier Approach will not be going ahead due to the weather. :( http://t.co/PidhDm1ga3\"],\n",
       "       ...,\n",
       "       ['@SarahRashadd straight 7elw :( at least mesh beyt3a2ad'],\n",
       "       [':) my moods are so bipolar'],\n",
       "       [\"@tmhcuddly I'm so excited, we should definitely meet up :)\"]],\n",
       "      dtype='<U152')"
      ]
     },
     "execution_count": 74,
     "metadata": {},
     "output_type": "execute_result"
    }
   ],
   "source": [
    "X_train"
   ]
  },
  {
   "cell_type": "code",
   "execution_count": 75,
   "id": "7492d1c2",
   "metadata": {},
   "outputs": [
    {
     "data": {
      "text/plain": [
       "array([[0.],\n",
       "       [1.],\n",
       "       [0.],\n",
       "       ...,\n",
       "       [0.],\n",
       "       [1.],\n",
       "       [1.]])"
      ]
     },
     "execution_count": 75,
     "metadata": {},
     "output_type": "execute_result"
    }
   ],
   "source": [
    "y_train"
   ]
  },
  {
   "cell_type": "code",
   "execution_count": 76,
   "id": "24359bd4",
   "metadata": {},
   "outputs": [
    {
     "data": {
      "text/plain": [
       "(7000, 1)"
      ]
     },
     "execution_count": 76,
     "metadata": {},
     "output_type": "execute_result"
    }
   ],
   "source": [
    "y_train.shape"
   ]
  },
  {
   "cell_type": "code",
   "execution_count": 79,
   "id": "c9e69f24",
   "metadata": {},
   "outputs": [],
   "source": [
    "frequncies = {('happy', 1.0) : 50, ('happy', 0.0) : 10 }"
   ]
  },
  {
   "cell_type": "code",
   "execution_count": 80,
   "id": "75d38131",
   "metadata": {},
   "outputs": [
    {
     "data": {
      "text/plain": [
       "50"
      ]
     },
     "execution_count": 80,
     "metadata": {},
     "output_type": "execute_result"
    }
   ],
   "source": [
    "frequncies.get(('happy', 1.0))"
   ]
  },
  {
   "cell_type": "code",
   "execution_count": 81,
   "id": "9d08156a",
   "metadata": {},
   "outputs": [],
   "source": [
    "frequncies[('happy', 1.0)] = 65"
   ]
  },
  {
   "cell_type": "code",
   "execution_count": 82,
   "id": "a64416c5",
   "metadata": {},
   "outputs": [
    {
     "data": {
      "text/plain": [
       "65"
      ]
     },
     "execution_count": 82,
     "metadata": {},
     "output_type": "execute_result"
    }
   ],
   "source": [
    "frequncies.get(('happy', 1.0))"
   ]
  },
  {
   "cell_type": "code",
   "execution_count": 83,
   "id": "15437e7e",
   "metadata": {},
   "outputs": [],
   "source": [
    "frequncies[('sad', 1.0)] = 5\n",
    "frequncies[('sad', 0.0)] = 55"
   ]
  },
  {
   "cell_type": "code",
   "execution_count": 84,
   "id": "e14e651c",
   "metadata": {},
   "outputs": [
    {
     "data": {
      "text/plain": [
       "{('happy', 1.0): 65, ('happy', 0.0): 10, ('sad', 1.0): 5, ('sad', 0.0): 55}"
      ]
     },
     "execution_count": 84,
     "metadata": {},
     "output_type": "execute_result"
    }
   ],
   "source": [
    "frequncies"
   ]
  },
  {
   "cell_type": "code",
   "execution_count": 85,
   "id": "586a5a5e",
   "metadata": {},
   "outputs": [],
   "source": [
    "frequncies = {}"
   ]
  },
  {
   "cell_type": "code",
   "execution_count": 87,
   "id": "7db4d432",
   "metadata": {},
   "outputs": [],
   "source": [
    "for tweet, label in zip(X_train, y_train):\n",
    "    for token in process_tweet(tweet[0], tokenizer, stemmer):\n",
    "        pair = (token, label[0])\n",
    "        frequncies[pair] = frequncies.get(pair, 0) + 1"
   ]
  },
  {
   "cell_type": "code",
   "execution_count": 88,
   "id": "1553592d",
   "metadata": {},
   "outputs": [
    {
     "data": {
      "text/plain": [
       "{('dci', 0.0): 1,\n",
       " ('today', 0.0): 76,\n",
       " ('wish', 0.0): 68,\n",
       " ('go', 0.0): 156,\n",
       " (':-(', 0.0): 351,\n",
       " ('thank', 1.0): 453,\n",
       " ('omar', 1.0): 1,\n",
       " (':)', 1.0): 2461,\n",
       " ('unfortun', 0.0): 21,\n",
       " (\"today'\", 0.0): 3,\n",
       " ('perform', 0.0): 5,\n",
       " ('pier', 0.0): 1,\n",
       " ('approach', 0.0): 1,\n",
       " ('ahead', 0.0): 2,\n",
       " ('due', 0.0): 11,\n",
       " ('weather', 0.0): 24,\n",
       " (':(', 0.0): 3202,\n",
       " ('huhuu', 0.0): 1,\n",
       " ('thank', 0.0): 73,\n",
       " ('congratul', 0.0): 2,\n",
       " ('proud', 0.0): 5,\n",
       " ('guy', 0.0): 44,\n",
       " ('idea', 0.0): 6,\n",
       " ('happi', 0.0): 21,\n",
       " ('support', 0.0): 21,\n",
       " ('shake', 0.0): 1,\n",
       " ('head', 0.0): 18,\n",
       " ('repeatedli', 0.0): 1,\n",
       " ('nu-uh', 0.0): 1,\n",
       " ('jace', 0.0): 1,\n",
       " ('love', 0.0): 103,\n",
       " ('mostest', 0.0): 1,\n",
       " ('annnd', 0.0): 1,\n",
       " ('winchest', 0.0): 1,\n",
       " ('{:', 0.0): 1,\n",
       " ('hahah', 0.0): 5,\n",
       " ('dunwan', 0.0): 1,\n",
       " ('keep', 0.0): 26,\n",
       " ('also', 0.0): 11,\n",
       " ('suan', 0.0): 1,\n",
       " ('le', 0.0): 2,\n",
       " ('ba', 0.0): 3,\n",
       " ('haiz', 0.0): 1,\n",
       " ('see', 0.0): 91,\n",
       " ('everyon', 0.0): 19,\n",
       " ('otw', 0.0): 1,\n",
       " ('rn', 0.0): 11,\n",
       " ('miss', 0.0): 207,\n",
       " ('tweet', 0.0): 27,\n",
       " ('spree', 0.0): 2,\n",
       " ('oh', 0.0): 64,\n",
       " ('said', 1.0): 13,\n",
       " ('go', 1.0): 109,\n",
       " ('sleep', 1.0): 33,\n",
       " ('hour', 1.0): 17,\n",
       " ('ago', 1.0): 7,\n",
       " ('im', 1.0): 35,\n",
       " ('still', 1.0): 31,\n",
       " ('awak', 1.0): 6,\n",
       " (':-)', 1.0): 500,\n",
       " ('boss', 0.0): 4,\n",
       " ('ps3', 1.0): 1,\n",
       " ('good', 1.0): 170,\n",
       " (\"i'd\", 1.0): 15,\n",
       " ('say', 1.0): 39,\n",
       " ('keep', 1.0): 49,\n",
       " ('use', 1.0): 34,\n",
       " ('though', 1.0): 13,\n",
       " ('choic', 1.0): 5,\n",
       " (\"i'm\", 0.0): 233,\n",
       " ('babi', 0.0): 29,\n",
       " ('rancho', 0.0): 1,\n",
       " ('imperi', 0.0): 1,\n",
       " ('de', 0.0): 1,\n",
       " ('silang', 0.0): 1,\n",
       " ('subdivis', 0.0): 1,\n",
       " ('die', 0.0): 17,\n",
       " ('egg', 0.0): 3,\n",
       " ('benni', 0.0): 1,\n",
       " ('miss', 1.0): 19,\n",
       " ('yesterday', 1.0): 7,\n",
       " ('congrat', 1.0): 17,\n",
       " ('launch', 1.0): 4,\n",
       " (':d', 1.0): 453,\n",
       " ('fruiti', 1.0): 1,\n",
       " ('vodka', 1.0): 2,\n",
       " ('alway', 1.0): 44,\n",
       " ('help', 1.0): 23,\n",
       " (\"i'm\", 1.0): 137,\n",
       " ('proud', 1.0): 11,\n",
       " ('work', 1.0): 78,\n",
       " ('hope', 1.0): 100,\n",
       " ('enjoy', 1.0): 50,\n",
       " ('let', 1.0): 53,\n",
       " ('know', 1.0): 107,\n",
       " ('view', 1.0): 11,\n",
       " ('ndabenhl', 0.0): 1,\n",
       " ('pleas', 0.0): 197,\n",
       " ('let', 0.0): 24,\n",
       " ('us', 0.0): 26,\n",
       " ('know', 0.0): 92,\n",
       " ('feel', 0.0): 100,\n",
       " ('way', 0.0): 26,\n",
       " ('sa', 0.0): 10,\n",
       " ('meet', 0.0): 23,\n",
       " ('skyfal', 0.0): 1,\n",
       " ('premier', 0.0): 1,\n",
       " ('age', 0.0): 3,\n",
       " ('ago', 0.0): 12,\n",
       " ('though', 0.0): 42,\n",
       " (\"he'\", 0.0): 14,\n",
       " ('yummi', 0.0): 1,\n",
       " ('...', 0.0): 238,\n",
       " ('like', 0.0): 154,\n",
       " ('cake', 0.0): 7,\n",
       " ('love', 1.0): 283,\n",
       " ('put', 1.0): 14,\n",
       " ('someon', 1.0): 26,\n",
       " (\"else'\", 1.0): 2,\n",
       " ('need', 1.0): 53,\n",
       " ('teenchoic', 1.0): 9,\n",
       " ('choiceinternationalartist', 1.0): 8,\n",
       " ('superjunior', 1.0): 8,\n",
       " ('fight', 1.0): 2,\n",
       " ('oppa', 1.0): 5,\n",
       " ('giant', 1.0): 1,\n",
       " ('balloon', 1.0): 2,\n",
       " ('want', 1.0): 68,\n",
       " ('one', 1.0): 98,\n",
       " ('good', 0.0): 67,\n",
       " ('hungri', 0.0): 13,\n",
       " ('fback', 1.0): 20,\n",
       " ('tokyo', 1.0): 2,\n",
       " ('kunoriforceo', 1.0): 5,\n",
       " ('ceo', 1.0): 8,\n",
       " ('1month', 1.0): 8,\n",
       " ('interest', 1.0): 16,\n",
       " (\"i'v\", 1.0): 28,\n",
       " ('never', 1.0): 32,\n",
       " ('heard', 1.0): 9,\n",
       " ('read', 1.0): 24,\n",
       " ('tempor', 1.0): 1,\n",
       " ('void', 1.0): 1,\n",
       " ('atm', 1.0): 3,\n",
       " ('stem', 1.0): 1,\n",
       " ('sf', 1.0): 1,\n",
       " ('sorri', 0.0): 97,\n",
       " ('block', 0.0): 8,\n",
       " ('stress', 1.0): 7,\n",
       " ('time', 1.0): 96,\n",
       " ('coco', 1.0): 1,\n",
       " ('folk', 1.0): 7,\n",
       " ('luck', 0.0): 4,\n",
       " ('want', 0.0): 182,\n",
       " ('sleep', 0.0): 69,\n",
       " ('tire', 0.0): 35,\n",
       " ('weigh', 0.0): 1,\n",
       " ('risk', 0.0): 2,\n",
       " ('premium', 0.0): 1,\n",
       " ('lot', 0.0): 22,\n",
       " ('money', 0.0): 20,\n",
       " ('1', 0.0): 15,\n",
       " ('reason', 0.0): 6,\n",
       " ('keen', 0.0): 1,\n",
       " ('get', 0.0): 165,\n",
       " ('dog', 0.0): 11,\n",
       " ('mcg', 0.0): 1,\n",
       " ('may', 0.0): 13,\n",
       " ('look', 0.0): 69,\n",
       " ('strong', 0.0): 6,\n",
       " ('hey', 0.0): 18,\n",
       " ('sigh', 1.0): 2,\n",
       " ('@dcodedboii', 1.0): 1,\n",
       " ('dont', 1.0): 10,\n",
       " ('b', 1.0): 7,\n",
       " ('stupid', 1.0): 5,\n",
       " ('@sleekyskillz', 1.0): 2,\n",
       " ('head', 1.0): 11,\n",
       " ('urgent', 1.0): 2,\n",
       " ('...', 1.0): 192,\n",
       " ('pl', 1.0): 7,\n",
       " ('appli', 1.0): 5,\n",
       " ('within', 1.0): 3,\n",
       " ('suck', 0.0): 18,\n",
       " ('tri', 0.0): 43,\n",
       " ('vitamin', 0.0): 1,\n",
       " ('e', 0.0): 8,\n",
       " ('oil', 0.0): 1,\n",
       " ('massag', 0.0): 4,\n",
       " ('everyday', 0.0): 6,\n",
       " ('make', 0.0): 74,\n",
       " ('healthier', 0.0): 1,\n",
       " ('easier', 0.0): 2,\n",
       " ('stretch', 0.0): 1,\n",
       " ('normal', 0.0): 5,\n",
       " ('data', 0.0): 6,\n",
       " ('usag', 0.0): 1,\n",
       " ('warn', 0.0): 1,\n",
       " ('til', 0.0): 4,\n",
       " ('end', 0.0): 31,\n",
       " ('month', 0.0): 13,\n",
       " ('got', 0.0): 76,\n",
       " ('pray', 0.0): 10,\n",
       " ('year', 0.0): 33,\n",
       " ('avail', 0.0): 8,\n",
       " ('stat', 1.0): 36,\n",
       " ('day', 1.0): 167,\n",
       " ('arriv', 1.0): 42,\n",
       " ('1', 1.0): 49,\n",
       " ('new', 1.0): 91,\n",
       " ('follow', 1.0): 251,\n",
       " ('unfollow', 1.0): 39,\n",
       " ('via', 1.0): 42,\n",
       " ('sad', 0.0): 94,\n",
       " ('live', 0.0): 27,\n",
       " ('stream', 0.0): 16,\n",
       " (\"can't\", 0.0): 134,\n",
       " ('boah', 0.0): 1,\n",
       " ('fall', 1.0): 8,\n",
       " ('’', 1.0): 14,\n",
       " ('chanc', 1.0): 4,\n",
       " ('♡', 1.0): 18,\n",
       " ('someth', 0.0): 23,\n",
       " ('bad', 0.0): 40,\n",
       " ('alway', 0.0): 40,\n",
       " ('happen', 0.0): 40,\n",
       " ('around', 0.0): 18,\n",
       " ('time', 0.0): 112,\n",
       " ('day', 0.0): 102,\n",
       " ('everi', 0.0): 14,\n",
       " ('bare', 0.0): 6,\n",
       " ('boob', 0.0): 2,\n",
       " ('rape', 1.0): 1,\n",
       " ('best', 1.0): 46,\n",
       " ('sabah', 1.0): 3,\n",
       " ('kapima', 1.0): 1,\n",
       " ('gelen', 1.0): 1,\n",
       " ('guzel', 1.0): 1,\n",
       " ('bir', 1.0): 1,\n",
       " ('hediy', 1.0): 1,\n",
       " ('thanx', 1.0): 1,\n",
       " ('wonder', 1.0): 28,\n",
       " ('present', 1.0): 7,\n",
       " ('honey', 1.0): 3,\n",
       " ('💞', 1.0): 2,\n",
       " ('😘', 1.0): 8,\n",
       " ('fan', 1.0): 18,\n",
       " ('own', 1.0): 1,\n",
       " ('pair', 1.0): 2,\n",
       " ('gonna', 1.0): 13,\n",
       " ('wear', 1.0): 4,\n",
       " ('typic', 1.0): 2,\n",
       " ('colour', 1.0): 3,\n",
       " ('shoe', 1.0): 4,\n",
       " (\"it'll\", 1.0): 3,\n",
       " ('cortez', 1.0): 1,\n",
       " ('superstar', 1.0): 1,\n",
       " ('ideal', 1.0): 1,\n",
       " ('type', 1.0): 5,\n",
       " ('weekli', 1.0): 1,\n",
       " ('idol', 1.0): 3,\n",
       " ('make', 1.0): 68,\n",
       " ('pose', 1.0): 2,\n",
       " ('tell', 1.0): 17,\n",
       " ('meet', 1.0): 27,\n",
       " ('worri', 1.0): 15,\n",
       " ('uff', 1.0): 1,\n",
       " ('itna', 1.0): 2,\n",
       " ('karhi', 1.0): 1,\n",
       " ('thi', 1.0): 1,\n",
       " ('ap', 1.0): 2,\n",
       " (':p', 1.0): 94,\n",
       " ('ye', 1.0): 54,\n",
       " ('jack', 1.0): 2,\n",
       " ('fuck', 1.0): 15,\n",
       " ('kumpul', 1.0): 1,\n",
       " ('cantik', 1.0): 1,\n",
       " ('ganteng', 1.0): 1,\n",
       " ('kresna', 1.0): 1,\n",
       " ('jelli', 1.0): 1,\n",
       " ('3', 1.0): 23,\n",
       " ('other', 1.0): 8,\n",
       " ('simon', 1.0): 1,\n",
       " ('son', 1.0): 3,\n",
       " ('pic', 1.0): 22,\n",
       " ('—', 1.0): 23,\n",
       " ('yeah', 0.0): 27,\n",
       " ('horribl', 0.0): 8,\n",
       " ('big', 0.0): 15,\n",
       " ('hug', 0.0): 15,\n",
       " ('mean', 0.0): 30,\n",
       " ('x', 0.0): 29,\n",
       " ('assign', 0.0): 5,\n",
       " ('pleas', 1.0): 71,\n",
       " ('complain', 1.0): 2,\n",
       " ('coffe', 1.0): 9,\n",
       " ('youll', 1.0): 1,\n",
       " ('old', 1.0): 9,\n",
       " ('weak', 1.0): 4,\n",
       " ('someday', 1.0): 4,\n",
       " ('wrong', 0.0): 19,\n",
       " ('password', 0.0): 1,\n",
       " ('recal', 0.0): 2,\n",
       " ('thingi', 0.0): 1,\n",
       " ('work', 0.0): 95,\n",
       " ('prob', 0.0): 4,\n",
       " ('state', 0.0): 4,\n",
       " ('last', 0.0): 52,\n",
       " ('night', 0.0): 33,\n",
       " ('true', 0.0): 16,\n",
       " ('fuck', 0.0): 37,\n",
       " ('one', 0.0): 102,\n",
       " ('signatur', 0.0): 1,\n",
       " ('dish', 0.0): 1,\n",
       " ('unfamiliar', 0.0): 1,\n",
       " ('kitchen', 0.0): 2,\n",
       " ('lol', 0.0): 29,\n",
       " ('realli', 0.0): 95,\n",
       " ('@praisekingdavid', 0.0): 1,\n",
       " ('unlik', 0.0): 1,\n",
       " ('funni', 1.0): 15,\n",
       " ('soon', 1.0): 34,\n",
       " ('wait', 1.0): 48,\n",
       " ('till', 1.0): 14,\n",
       " ('turn', 1.0): 7,\n",
       " ('mia', 1.0): 1,\n",
       " ('week', 0.0): 45,\n",
       " ('far', 0.0): 13,\n",
       " ('quick', 0.0): 5,\n",
       " ('sold', 0.0): 5,\n",
       " ('often', 1.0): 2,\n",
       " ('attitud', 1.0): 1,\n",
       " ('kindl', 1.0): 1,\n",
       " ('flame', 1.0): 1,\n",
       " ('convict', 1.0): 1,\n",
       " ('loui', 1.0): 2,\n",
       " ('e', 1.0): 5,\n",
       " ('le', 1.0): 1,\n",
       " ('bar', 1.0): 1,\n",
       " ('lrt', 0.0): 1,\n",
       " ('bambam', 0.0): 1,\n",
       " ('soda', 0.0): 1,\n",
       " ('meant', 0.0): 2,\n",
       " ('still', 0.0): 90,\n",
       " ('fluent', 0.0): 1,\n",
       " ('peopl', 0.0): 50,\n",
       " ('say', 0.0): 44,\n",
       " ('sound', 0.0): 14,\n",
       " ('white', 0.0): 5,\n",
       " ('varsiti', 0.0): 1,\n",
       " ('ruin', 0.0): 7,\n",
       " ('sengenza', 0.0): 1,\n",
       " ('typo', 0.0): 2,\n",
       " ('use', 0.0): 31,\n",
       " ('word', 0.0): 13,\n",
       " ('context', 0.0): 1,\n",
       " (\"that'\", 0.0): 44,\n",
       " ('rid', 0.0): 2,\n",
       " ('kati', 0.0): 1,\n",
       " ('hopkin', 0.0): 1,\n",
       " ('told', 0.0): 6,\n",
       " ('u', 0.0): 125,\n",
       " ('bday', 0.0): 4,\n",
       " ('gift', 0.0): 6,\n",
       " ('5', 0.0): 10,\n",
       " ('paypal', 0.0): 2,\n",
       " ('hear', 0.0): 22,\n",
       " ('email', 0.0): 5,\n",
       " ('inform', 0.0): 2,\n",
       " ('pro@illamasqua.com', 0.0): 1,\n",
       " ('instead', 0.0): 2,\n",
       " ('manual', 0.0): 1,\n",
       " ('set', 0.0): 9,\n",
       " ('wake', 1.0): 9,\n",
       " ('nice', 1.0): 65,\n",
       " ('weather', 1.0): 7,\n",
       " ('koyal', 1.0): 1,\n",
       " ('melodi', 1.0): 1,\n",
       " ('unexpect', 1.0): 4,\n",
       " ('surpris', 1.0): 5,\n",
       " ('creat', 1.0): 5,\n",
       " ('memori', 1.0): 3,\n",
       " ('fresh', 1.0): 5,\n",
       " ('maxfreshmov', 1.0): 2,\n",
       " ('frudg', 0.0): 1,\n",
       " ('cant', 0.0): 29,\n",
       " ('chill', 0.0): 3,\n",
       " ('hi', 1.0): 126,\n",
       " ('enter', 1.0): 8,\n",
       " ('purchas', 1.0): 2,\n",
       " ('specially-mark', 1.0): 1,\n",
       " ('first', 1.0): 43,\n",
       " ('custard', 1.0): 1,\n",
       " ('pack', 1.0): 5,\n",
       " ('sm', 1.0): 1,\n",
       " ('on-pack', 1.0): 1,\n",
       " ('instruct', 1.0): 1,\n",
       " ('luck', 1.0): 22,\n",
       " ('guy', 1.0): 44,\n",
       " ('plan', 1.0): 20,\n",
       " ('tomorrow', 1.0): 28,\n",
       " ('omgg', 1.0): 1,\n",
       " ('job', 1.0): 25,\n",
       " (\"today'\", 1.0): 3,\n",
       " ('race', 1.0): 5,\n",
       " ('thanki', 1.0): 2,\n",
       " ('tdi', 1.0): 1,\n",
       " ('(-:', 1.0): 1,\n",
       " ('switch', 1.0): 2,\n",
       " ('back', 1.0): 65,\n",
       " ('lap', 1.0): 1,\n",
       " ('optim', 1.0): 1,\n",
       " ('window', 1.0): 6,\n",
       " ('7', 1.0): 8,\n",
       " ('lu', 1.0): 1,\n",
       " (':|', 1.0): 1,\n",
       " ('grow', 1.0): 4,\n",
       " ('fond', 1.0): 1,\n",
       " ('christoph', 1.0): 2,\n",
       " ('like', 1.0): 180,\n",
       " ('initi', 1.0): 3,\n",
       " ('cocki', 1.0): 1,\n",
       " ('realli', 1.0): 56,\n",
       " ('prove', 1.0): 2,\n",
       " (\"attitude'\", 1.0): 1,\n",
       " ('improv', 1.0): 3,\n",
       " ('shit', 0.0): 26,\n",
       " ('take', 0.0): 32,\n",
       " ('thing', 0.0): 36,\n",
       " ('holi', 0.0): 2,\n",
       " ('okay', 0.0): 24,\n",
       " ('text', 0.0): 11,\n",
       " ('need', 0.0): 64,\n",
       " ('anythin', 0.0): 1,\n",
       " ('would', 1.0): 69,\n",
       " ('huh', 1.0): 1,\n",
       " ('look', 1.0): 96,\n",
       " ('mirror', 1.0): 2,\n",
       " ('everi', 1.0): 17,\n",
       " ('woke', 0.0): 8,\n",
       " ('upp', 0.0): 1,\n",
       " ('everyon', 1.0): 37,\n",
       " ('fuckin', 1.0): 2,\n",
       " ('irrit', 1.0): 1,\n",
       " ('everybodi', 0.0): 4,\n",
       " ('unfollow', 0.0): 6,\n",
       " ('stop', 0.0): 29,\n",
       " ('also', 1.0): 22,\n",
       " ('tweet', 1.0): 38,\n",
       " ('forget', 1.0): 12,\n",
       " ('start', 1.0): 52,\n",
       " ('..', 1.0): 86,\n",
       " ('llama', 0.0): 1,\n",
       " ('sick', 0.0): 26,\n",
       " ('pl', 0.0): 33,\n",
       " ('care', 0.0): 10,\n",
       " ('urself', 0.0): 1,\n",
       " ('getwellsoonamb', 0.0): 1,\n",
       " ('@llama_ajol', 0.0): 2,\n",
       " ('cri', 1.0): 6,\n",
       " ('hakhakhak', 1.0): 1,\n",
       " ('@ksdahyun', 1.0): 1,\n",
       " ('t___t', 1.0): 1,\n",
       " ('haha', 1.0): 37,\n",
       " ('almost', 1.0): 6,\n",
       " ('certainli', 1.0): 3,\n",
       " ('true', 1.0): 17,\n",
       " ('name', 1.0): 13,\n",
       " ('god', 0.0): 8,\n",
       " ('finish', 0.0): 8,\n",
       " ('death', 0.0): 2,\n",
       " ('parad', 0.0): 1,\n",
       " ('weekend', 0.0): 16,\n",
       " ('weird', 0.0): 9,\n",
       " ('person', 0.0): 13,\n",
       " ('ship', 0.0): 4,\n",
       " ('bellami', 0.0): 1,\n",
       " ('raven', 0.0): 2,\n",
       " ('clark', 0.0): 1,\n",
       " ('heart', 0.0): 18,\n",
       " ('well', 1.0): 59,\n",
       " ('get', 1.0): 137,\n",
       " ('recruit', 1.0): 2,\n",
       " ('team', 1.0): 18,\n",
       " ('doom', 1.0): 1,\n",
       " ('nasti', 1.0): 1,\n",
       " ('crew', 1.0): 1,\n",
       " ('affili', 1.0): 1,\n",
       " ('>:)', 1.0): 2,\n",
       " ('morn', 1.0): 76,\n",
       " ('catch', 1.0): 7,\n",
       " ('heck', 1.0): 1,\n",
       " ('lot', 1.0): 60,\n",
       " ('gun', 1.0): 2,\n",
       " ('hater', 1.0): 2,\n",
       " ('tri', 1.0): 31,\n",
       " ('associ', 1.0): 1,\n",
       " ('um', 1.0): 1,\n",
       " ('endow', 1.0): 1,\n",
       " ('rude', 1.0): 2,\n",
       " ('respons', 1.0): 4,\n",
       " ('@hdiddynz', 1.0): 1,\n",
       " ('id', 1.0): 7,\n",
       " ('think', 1.0): 44,\n",
       " ('peopl', 1.0): 31,\n",
       " ('hello', 1.0): 43,\n",
       " ('walk', 1.0): 12,\n",
       " ('citi', 1.0): 24,\n",
       " ('instal', 1.0): 2,\n",
       " ('applic', 1.0): 2,\n",
       " ('zonzofox', 1.0): 3,\n",
       " ('click', 1.0): 3,\n",
       " ('link', 1.0): 14,\n",
       " ('hit', 1.0): 9,\n",
       " ('10,000', 1.0): 1,\n",
       " ('play', 1.0): 33,\n",
       " ('girlfriend', 1.0): 3,\n",
       " ('remix', 1.0): 4,\n",
       " ('attend', 0.0): 2,\n",
       " ('music', 0.0): 12,\n",
       " ('bank', 0.0): 6,\n",
       " ('starsquad', 1.0): 3,\n",
       " ('⭐', 1.0): 2,\n",
       " ('vikk', 1.0): 1,\n",
       " ('fna', 1.0): 1,\n",
       " ('dem', 0.0): 1,\n",
       " ('free', 0.0): 15,\n",
       " ('tix', 0.0): 2,\n",
       " ('bang', 0.0): 2,\n",
       " ('concert', 0.0): 9,\n",
       " ('along', 0.0): 2,\n",
       " ('fever', 0.0): 4,\n",
       " ('bu', 1.0): 3,\n",
       " ('girl', 1.0): 28,\n",
       " ('long', 1.0): 26,\n",
       " ('cardi', 1.0): 1,\n",
       " ('everyday', 1.0): 2,\n",
       " ('everytim', 1.0): 3,\n",
       " ('see', 1.0): 133,\n",
       " ('u', 1.0): 129,\n",
       " ('laugh', 1.0): 3,\n",
       " ('smile', 1.0): 48,\n",
       " ('cute', 1.0): 18,\n",
       " ('great', 1.0): 130,\n",
       " ('part', 1.0): 13,\n",
       " ('awesom', 1.0): 31,\n",
       " ('dominion', 1.0): 1,\n",
       " ('famili', 1.0): 11,\n",
       " ('much', 0.0): 96,\n",
       " ('seriou', 0.0): 8,\n",
       " ('yun', 0.0): 1,\n",
       " ('eh', 0.0): 2,\n",
       " ('long', 0.0): 29,\n",
       " ('manag', 0.0): 6,\n",
       " ('ticket', 0.0): 8,\n",
       " ('come', 0.0): 59,\n",
       " ('singapor', 0.0): 2,\n",
       " ('ah', 1.0): 11,\n",
       " ('larri', 1.0): 3,\n",
       " ('appropri', 0.0): 1,\n",
       " ('livi', 1.0): 1,\n",
       " ('fowl', 1.0): 1,\n",
       " ('oliviafowl', 1.0): 1,\n",
       " ('891', 1.0): 1,\n",
       " ('free', 1.0): 30,\n",
       " ('iphon', 1.0): 4,\n",
       " ('6', 1.0): 15,\n",
       " ('hurri', 1.0): 4,\n",
       " ('check', 1.0): 40,\n",
       " ('bi0', 1.0): 6,\n",
       " ('thx', 1.0): 9,\n",
       " ('im', 0.0): 105,\n",
       " ('watch', 0.0): 57,\n",
       " ('disney', 0.0): 1,\n",
       " ('channel', 0.0): 6,\n",
       " ('download', 1.0): 5,\n",
       " ('twitter', 1.0): 22,\n",
       " ('phone', 1.0): 10,\n",
       " ('forgiv', 1.0): 2,\n",
       " ('puppi', 0.0): 1,\n",
       " ('broke', 0.0): 6,\n",
       " ('foot', 0.0): 2,\n",
       " ('aw', 0.0): 32,\n",
       " (':/', 0.0): 9,\n",
       " ('angek', 0.0): 1,\n",
       " ('sbali', 0.0): 1,\n",
       " ('@ami_khang', 0.0): 1,\n",
       " ('euuuwwww', 0.0): 1,\n",
       " ('lunch', 0.0): 6,\n",
       " ('real', 0.0): 11,\n",
       " ('construct', 0.0): 2,\n",
       " ('worker', 0.0): 2,\n",
       " ('goodnight', 1.0): 15,\n",
       " ('hayli', 1.0): 1,\n",
       " ('dead', 1.0): 4,\n",
       " ('add', 0.0): 19,\n",
       " ('kik', 0.0): 43,\n",
       " ('toneadi', 0.0): 1,\n",
       " ('46532', 0.0): 1,\n",
       " ('kikmeboy', 0.0): 8,\n",
       " ('wife', 0.0): 5,\n",
       " ('porno', 0.0): 3,\n",
       " ('snapdirti', 0.0): 1,\n",
       " ('premiostumundo', 0.0): 2,\n",
       " ('sheskindahot', 0.0): 1,\n",
       " ('decid', 0.0): 8,\n",
       " ('name', 0.0): 11,\n",
       " ('planner', 0.0): 1,\n",
       " ('helpppp', 0.0): 1,\n",
       " ('add', 1.0): 16,\n",
       " ('kik', 1.0): 18,\n",
       " ('theoper', 1.0): 1,\n",
       " ('479', 1.0): 1,\n",
       " ('kikgirl', 1.0): 5,\n",
       " ('snapchat', 1.0): 21,\n",
       " ('hot', 1.0): 11,\n",
       " ('pussi', 1.0): 3,\n",
       " ('premiostumundo', 1.0): 2,\n",
       " ('kikkomansabor', 1.0): 2,\n",
       " ('yeeeeyyy', 1.0): 1,\n",
       " ('gohf', 1.0): 3,\n",
       " ('2015', 1.0): 12,\n",
       " ('barsostay', 1.0): 1,\n",
       " ('rememb', 1.0): 13,\n",
       " ('♫', 1.0): 1,\n",
       " ('feat', 1.0): 1,\n",
       " ('charli', 1.0): 1,\n",
       " ('puth', 1.0): 1,\n",
       " ('wiz', 1.0): 1,\n",
       " ('khalifa', 1.0): 1,\n",
       " ('bodi', 0.0): 9,\n",
       " ('system', 0.0): 3,\n",
       " ('accept', 0.0): 2,\n",
       " ('food', 0.0): 14,\n",
       " ('3hr', 1.0): 1,\n",
       " ('tym', 1.0): 2,\n",
       " ('prepar', 1.0): 3,\n",
       " ('japanes', 0.0): 4,\n",
       " ('likewis', 0.0): 1,\n",
       " ('either', 0.0): 11,\n",
       " ('late', 0.0): 21,\n",
       " ('fun', 1.0): 41,\n",
       " ('mani', 1.0): 22,\n",
       " ('takeaway', 1.0): 1,\n",
       " ('today', 1.0): 70,\n",
       " ('fair', 0.0): 8,\n",
       " ('alreadi', 0.0): 35,\n",
       " ('front', 0.0): 5,\n",
       " ('row', 0.0): 2,\n",
       " ('legit', 0.0): 1,\n",
       " ('back', 0.0): 74,\n",
       " ('stadium', 0.0): 3,\n",
       " ('convo', 1.0): 3,\n",
       " ('normal', 1.0): 3,\n",
       " ('person', 1.0): 16,\n",
       " ('instead', 1.0): 6,\n",
       " ('post', 1.0): 18,\n",
       " ('feel', 1.0): 34,\n",
       " ('200', 1.0): 3,\n",
       " ('closest', 1.0): 1,\n",
       " ('friend', 1.0): 45,\n",
       " ('man', 0.0): 25,\n",
       " ('right', 0.0): 33,\n",
       " ('someon', 0.0): 47,\n",
       " ('would', 0.0): 53,\n",
       " ('bring', 0.0): 9,\n",
       " ('offic', 0.0): 6,\n",
       " ('starv', 0.0): 3,\n",
       " (\"what'\", 0.0): 7,\n",
       " ('glad', 1.0): 28,\n",
       " ('haha', 0.0): 21,\n",
       " (\"x'\", 0.0): 1,\n",
       " ('😂', 0.0): 19,\n",
       " ('rememb', 0.0): 11,\n",
       " ('hate', 0.0): 43,\n",
       " ('xxxxx', 0.0): 1,\n",
       " ('honesti', 0.0): 1,\n",
       " ('lone', 0.0): 7,\n",
       " ('sooooooooooo', 0.0): 1,\n",
       " ('fineandyu', 0.0): 1,\n",
       " ('gd', 0.0): 1,\n",
       " ('pic', 0.0): 11,\n",
       " ('hurt', 0.0): 25,\n",
       " ('follow', 0.0): 178,\n",
       " ('patti', 1.0): 1,\n",
       " ('unknown', 0.0): 1,\n",
       " ('beyond', 1.0): 3,\n",
       " ('excit', 1.0): 25,\n",
       " ('la', 1.0): 6,\n",
       " ('ugh', 0.0): 18,\n",
       " ('werk', 0.0): 1,\n",
       " ('morn', 0.0): 21,\n",
       " ('retweet', 1.0): 21,\n",
       " ('judi', 1.0): 1,\n",
       " ('100', 0.0): 6,\n",
       " ('sure', 0.0): 25,\n",
       " ('lost', 0.0): 21,\n",
       " ('hous', 0.0): 11,\n",
       " ('whenev', 0.0): 3,\n",
       " ('tama', 0.0): 1,\n",
       " ('help', 0.0): 40,\n",
       " ('repeat', 0.0): 2,\n",
       " ('pabeb', 0.0): 2,\n",
       " ('warrior', 0.0): 2,\n",
       " ('trip', 0.0): 7,\n",
       " ('safe', 0.0): 4,\n",
       " ('soon', 0.0): 34,\n",
       " ('cheer', 1.0): 15,\n",
       " ('eye', 0.0): 8,\n",
       " ('open', 0.0): 8,\n",
       " ('realis', 0.0): 2,\n",
       " ('scari', 0.0): 6,\n",
       " ('much', 1.0): 61,\n",
       " ('care', 1.0): 12,\n",
       " ('studi', 1.0): 5,\n",
       " (\"i'll\", 1.0): 70,\n",
       " ('favourit', 1.0): 9,\n",
       " ('later', 1.0): 13,\n",
       " ('4', 1.0): 13,\n",
       " ('car', 1.0): 3,\n",
       " ('drift', 1.0): 1,\n",
       " ('around', 1.0): 10,\n",
       " ('corner', 1.0): 3,\n",
       " ('bit', 1.0): 15,\n",
       " ('loos', 1.0): 2,\n",
       " ('@coffeestogo1', 1.0): 1,\n",
       " ('done', 1.0): 39,\n",
       " ('gfriend', 0.0): 1,\n",
       " ('cute', 0.0): 29,\n",
       " ('ahm', 0.0): 1,\n",
       " (\"i'v\", 0.0): 57,\n",
       " ('never', 0.0): 40,\n",
       " ('london', 0.0): 10,\n",
       " ('holiday', 0.0): 12,\n",
       " ('outsid', 0.0): 8,\n",
       " ('ireland', 0.0): 3,\n",
       " ('nearli', 0.0): 2,\n",
       " ('8', 0.0): 5,\n",
       " ('chanc', 0.0): 9,\n",
       " ('cash', 0.0): 1,\n",
       " ('text', 1.0): 13,\n",
       " ('followfriday', 1.0): 14,\n",
       " ('top', 1.0): 21,\n",
       " ('engag', 1.0): 6,\n",
       " ('member', 1.0): 13,\n",
       " ('commun', 1.0): 20,\n",
       " ('week', 1.0): 52,\n",
       " ('hmmm', 0.0): 1,\n",
       " ('sugar', 0.0): 2,\n",
       " ('rare', 0.0): 1,\n",
       " ('serious', 0.0): 9,\n",
       " ('big', 1.0): 26,\n",
       " ('decis', 1.0): 3,\n",
       " ('rather', 1.0): 3,\n",
       " ('badass', 1.0): 2,\n",
       " ('episod', 1.0): 2,\n",
       " ('excel', 1.0): 4,\n",
       " ('far', 1.0): 16,\n",
       " ('adam', 1.0): 1,\n",
       " (\"beach'\", 1.0): 1,\n",
       " ('movi', 1.0): 16,\n",
       " ('show', 1.0): 17,\n",
       " ('forward', 1.0): 17,\n",
       " ('suicid', 1.0): 1,\n",
       " ('squad', 1.0): 1,\n",
       " ('next', 1.0): 34,\n",
       " ('year', 1.0): 28,\n",
       " ('talk', 0.0): 38,\n",
       " ('lmao', 0.0): 9,\n",
       " (\"we'r\", 1.0): 18,\n",
       " ('hire', 1.0): 1,\n",
       " ('mayb', 1.0): 13,\n",
       " ('public', 1.0): 2,\n",
       " ('happi', 1.0): 143,\n",
       " ('birthday', 1.0): 51,\n",
       " ('cross', 0.0): 3,\n",
       " ('countri', 0.0): 5,\n",
       " ('ij', 0.0): 1,\n",
       " ('amaz', 0.0): 10,\n",
       " ('💥', 0.0): 1,\n",
       " ('✨', 0.0): 1,\n",
       " ('💫', 0.0): 1,\n",
       " ('bear', 0.0): 2,\n",
       " ('leav', 0.0): 32,\n",
       " ('goe', 0.0): 3,\n",
       " ('hahahaha', 1.0): 2,\n",
       " ('clearli', 1.0): 2,\n",
       " ('step', 0.0): 4,\n",
       " ('puddl', 0.0): 2,\n",
       " ('wear', 0.0): 4,\n",
       " ('slipper', 0.0): 1,\n",
       " ('rest', 1.0): 9,\n",
       " ('xx', 1.0): 33,\n",
       " ('bacon', 1.0): 2,\n",
       " ('roll', 1.0): 3,\n",
       " ('friday', 1.0): 81,\n",
       " ('three', 0.0): 5,\n",
       " ('190', 0.0): 2,\n",
       " ('33', 0.0): 1,\n",
       " ('liam', 1.0): 4,\n",
       " ('fantast', 1.0): 8,\n",
       " ('(:', 1.0): 1,\n",
       " ('sweet', 1.0): 12,\n",
       " ('dream', 1.0): 15,\n",
       " ('babi', 1.0): 13,\n",
       " ('heart', 1.0): 10,\n",
       " ('better', 0.0): 29,\n",
       " ('sinc', 0.0): 23,\n",
       " ('start', 0.0): 31,\n",
       " ('ignor', 0.0): 8,\n",
       " ('final', 0.0): 19,\n",
       " ('�', 0.0): 15,\n",
       " ('♥', 0.0): 15,\n",
       " ('mumbai', 1.0): 1,\n",
       " ('gujarat', 1.0): 1,\n",
       " ('rain', 1.0): 17,\n",
       " ('distrub', 1.0): 1,\n",
       " ('collect', 1.0): 7,\n",
       " ('otherwis', 1.0): 3,\n",
       " ('bb', 1.0): 3,\n",
       " ('190cr', 1.0): 1,\n",
       " ('inspit', 1.0): 1,\n",
       " ('highest', 1.0): 1,\n",
       " ('record', 1.0): 3,\n",
       " ('holder', 1.0): 1,\n",
       " ('begin', 1.0): 3,\n",
       " ('line-up', 1.0): 4,\n",
       " ('left', 1.0): 9,\n",
       " ('justiceforsandrabland', 0.0): 2,\n",
       " ('sandrabland', 0.0): 5,\n",
       " ('disturb', 0.0): 1,\n",
       " ('show', 0.0): 18,\n",
       " ('poor', 0.0): 22,\n",
       " ('women', 0.0): 4,\n",
       " ('dead', 0.0): 8,\n",
       " ('mug', 0.0): 3,\n",
       " ('shot', 0.0): 2,\n",
       " ('photo', 1.0): 13,\n",
       " ('talk', 1.0): 37,\n",
       " ('lol', 1.0): 46,\n",
       " ('sure', 1.0): 42,\n",
       " ('firm', 1.0): 1,\n",
       " ('stuff', 1.0): 12,\n",
       " ('diari', 1.0): 3,\n",
       " ('potenti', 1.0): 3,\n",
       " ('august', 1.0): 6,\n",
       " ('stay', 1.0): 17,\n",
       " ('updat', 1.0): 8,\n",
       " ('sri', 0.0): 1,\n",
       " ('question', 0.0): 8,\n",
       " ('dresscod', 0.0): 1,\n",
       " ('count', 0.0): 5,\n",
       " ('dont', 0.0): 41,\n",
       " ('stand', 0.0): 4,\n",
       " ('close', 0.0): 16,\n",
       " ('door', 0.0): 4,\n",
       " ('iam', 0.0): 2,\n",
       " ('confus', 0.0): 3,\n",
       " ('got', 1.0): 50,\n",
       " ('half', 1.0): 4,\n",
       " ('10/10', 1.0): 1,\n",
       " ('senior', 1.0): 1,\n",
       " ('shiiiit', 0.0): 1,\n",
       " ('kamiss', 0.0): 1,\n",
       " ('beh', 0.0): 2,\n",
       " ('😭', 0.0): 27,\n",
       " ('bbi', 0.0): 4,\n",
       " ('mwa', 0.0): 1,\n",
       " ('namecheck', 0.0): 1,\n",
       " ('whistl', 0.0): 1,\n",
       " ('without', 0.0): 14,\n",
       " ('small', 0.0): 7,\n",
       " ('game', 0.0): 17,\n",
       " ('jump', 0.0): 3,\n",
       " ('ask', 0.0): 16,\n",
       " ('omw', 0.0): 1,\n",
       " ('😍', 0.0): 1,\n",
       " ('doh', 1.0): 1,\n",
       " ('500', 1.0): 1,\n",
       " ('subscrib', 1.0): 2,\n",
       " ('us', 1.0): 72,\n",
       " ('reach', 1.0): 1,\n",
       " ('number', 1.0): 11,\n",
       " ('lmfao', 0.0): 1,\n",
       " ('congratul', 1.0): 11,\n",
       " ('daughter', 1.0): 1,\n",
       " ('call', 0.0): 16,\n",
       " ('bani', 0.0): 2,\n",
       " ('actual', 1.0): 17,\n",
       " ('stop', 1.0): 11,\n",
       " ('drive', 1.0): 7,\n",
       " ('biggest', 0.0): 2,\n",
       " ('dream', 0.0): 18,\n",
       " ('brooo', 0.0): 1,\n",
       " ('hp', 0.0): 4,\n",
       " ('curs', 0.0): 2,\n",
       " ('child', 0.0): 3,\n",
       " ('book', 0.0): 17,\n",
       " ('play', 0.0): 36,\n",
       " ('girl', 0.0): 20,\n",
       " ('win', 0.0): 17,\n",
       " ('idk', 0.0): 19,\n",
       " ('welcom', 1.0): 49,\n",
       " ('xxx', 0.0): 7,\n",
       " ('sunburn', 1.0): 1,\n",
       " ('peel', 1.0): 2,\n",
       " ('seem', 0.0): 10,\n",
       " ('everywher', 0.0): 5,\n",
       " ('post', 0.0): 8,\n",
       " ('messag', 0.0): 6,\n",
       " ('hi', 0.0): 19,\n",
       " ('skulker', 0.0): 1,\n",
       " ('check', 0.0): 12,\n",
       " ('thread', 0.0): 1,\n",
       " ('train', 1.0): 5,\n",
       " ('socent', 1.0): 1,\n",
       " ('startup', 1.0): 1,\n",
       " ('w', 1.0): 13,\n",
       " (\"we'd\", 1.0): 4,\n",
       " ('drop', 1.0): 4,\n",
       " ('your', 1.0): 3,\n",
       " ('arnd', 1.0): 1,\n",
       " ('town', 1.0): 3,\n",
       " ('swipe', 0.0): 1,\n",
       " ('anyth', 0.0): 16,\n",
       " ('fab', 1.0): 9,\n",
       " ('competit', 1.0): 1,\n",
       " ('ador', 1.0): 2,\n",
       " ('knew', 1.0): 4,\n",
       " ('case', 1.0): 5,\n",
       " ('end', 1.0): 15,\n",
       " ('sunshin', 1.0): 4,\n",
       " ('low', 1.0): 4,\n",
       " ('humid', 1.0): 1,\n",
       " ('87', 1.0): 1,\n",
       " ('chang', 1.0): 19,\n",
       " ('weekend', 1.0): 56,\n",
       " ('detail', 1.0): 7,\n",
       " ('allow', 0.0): 6,\n",
       " ('give', 0.0): 22,\n",
       " ('blood', 0.0): 4,\n",
       " ('fourfivesecond', 1.0): 4,\n",
       " ('might', 1.0): 21,\n",
       " ('deaf', 1.0): 4,\n",
       " ('ear', 1.0): 12,\n",
       " ('wielli', 1.0): 1,\n",
       " ('follback', 1.0): 14,\n",
       " ('ya', 1.0): 19,\n",
       " ('thencerest', 1.0): 2,\n",
       " ('547', 1.0): 2,\n",
       " ('kiksext', 1.0): 3,\n",
       " ('sex', 1.0): 4,\n",
       " ('followback', 1.0): 6,\n",
       " ('l4l', 1.0): 2,\n",
       " ('indiemus', 1.0): 4,\n",
       " ('ah', 0.0): 12,\n",
       " ('@ceafiv', 0.0): 1,\n",
       " ('respons', 0.0): 2,\n",
       " ('@whykaysbeauti', 1.0): 1,\n",
       " ('bruhhh', 1.0): 1,\n",
       " ('“', 1.0): 6,\n",
       " ('@dopjon', 1.0): 1,\n",
       " ('call', 1.0): 26,\n",
       " ('daddi', 1.0): 2,\n",
       " ('”', 1.0): 4,\n",
       " ('bam', 1.0): 30,\n",
       " ('bestfriend', 1.0): 36,\n",
       " ('warsaw', 1.0): 30,\n",
       " ('<3', 1.0): 92,\n",
       " ('x26', 1.0): 1,\n",
       " ('annoy', 0.0): 6,\n",
       " ('@cowokaddict', 1.0): 1,\n",
       " ('mama', 1.0): 1,\n",
       " ('reason', 1.0): 9,\n",
       " ('stand', 1.0): 5,\n",
       " ('stronger', 1.0): 1,\n",
       " ('sent', 1.0): 7,\n",
       " ('order', 1.0): 10,\n",
       " ('could', 1.0): 24,\n",
       " ('confirm', 1.0): 3,\n",
       " ('deliveri', 1.0): 3,\n",
       " ('definit', 1.0): 17,\n",
       " ('set', 1.0): 5,\n",
       " ('even', 0.0): 50,\n",
       " ('joke', 0.0): 5,\n",
       " ('made', 0.0): 16,\n",
       " ('xx', 0.0): 16,\n",
       " ('✫', 1.0): 4,\n",
       " ('✧', 1.0): 12,\n",
       " ('˚', 1.0): 4,\n",
       " ('·', 1.0): 4,\n",
       " ('✵', 1.0): 4,\n",
       " ('⊹', 1.0): 4,\n",
       " ('face', 1.0): 13,\n",
       " ('mind', 1.0): 16,\n",
       " ('x', 1.0): 53,\n",
       " ('1710', 1.0): 1,\n",
       " ('pricelessantiqu', 1.0): 1,\n",
       " ('takesonetoknowon', 1.0): 1,\n",
       " ('past', 1.0): 5,\n",
       " ...}"
      ]
     },
     "execution_count": 88,
     "metadata": {},
     "output_type": "execute_result"
    }
   ],
   "source": [
    "frequncies"
   ]
  },
  {
   "cell_type": "code",
   "execution_count": 90,
   "id": "97dab892",
   "metadata": {},
   "outputs": [
    {
     "data": {
      "text/plain": [
       "7"
      ]
     },
     "execution_count": 90,
     "metadata": {},
     "output_type": "execute_result"
    }
   ],
   "source": [
    "frequncies.get(('😘', 0.0))"
   ]
  },
  {
   "cell_type": "code",
   "execution_count": 96,
   "id": "60514f24",
   "metadata": {},
   "outputs": [
    {
     "data": {
      "text/plain": [
       "8"
      ]
     },
     "execution_count": 96,
     "metadata": {},
     "output_type": "execute_result"
    }
   ],
   "source": [
    "frequncies.get(('😘', 1.0))"
   ]
  },
  {
   "cell_type": "code",
   "execution_count": 93,
   "id": "36e6ed0d",
   "metadata": {},
   "outputs": [
    {
     "data": {
      "text/plain": [
       "5"
      ]
     },
     "execution_count": 93,
     "metadata": {},
     "output_type": "execute_result"
    }
   ],
   "source": [
    "frequncies.get((\"sad\", 1.0))"
   ]
  },
  {
   "cell_type": "code",
   "execution_count": 97,
   "id": "4e81ce3c",
   "metadata": {},
   "outputs": [
    {
     "data": {
      "text/plain": [
       "21"
      ]
     },
     "execution_count": 97,
     "metadata": {},
     "output_type": "execute_result"
    }
   ],
   "source": [
    "frequncies.get(('happi', 0.0))"
   ]
  },
  {
   "cell_type": "code",
   "execution_count": 101,
   "id": "1ebc5dcc",
   "metadata": {},
   "outputs": [],
   "source": [
    "X_train_features = np.zeros((7000, 3))"
   ]
  },
  {
   "cell_type": "code",
   "execution_count": 102,
   "id": "f319b7fc",
   "metadata": {},
   "outputs": [
    {
     "data": {
      "text/plain": [
       "array([[0., 0., 0.],\n",
       "       [0., 0., 0.],\n",
       "       [0., 0., 0.],\n",
       "       ...,\n",
       "       [0., 0., 0.],\n",
       "       [0., 0., 0.],\n",
       "       [0., 0., 0.]])"
      ]
     },
     "execution_count": 102,
     "metadata": {},
     "output_type": "execute_result"
    }
   ],
   "source": [
    "X_train_features"
   ]
  },
  {
   "cell_type": "code",
   "execution_count": 103,
   "id": "8a2bc82c",
   "metadata": {},
   "outputs": [
    {
     "data": {
      "text/plain": [
       "(7000, 3)"
      ]
     },
     "execution_count": 103,
     "metadata": {},
     "output_type": "execute_result"
    }
   ],
   "source": [
    "X_train_features.shape"
   ]
  },
  {
   "cell_type": "code",
   "execution_count": 109,
   "id": "a1d47377",
   "metadata": {},
   "outputs": [],
   "source": [
    "def generate_features(X):\n",
    "    for i in range(len(X_train)):\n",
    "        pos_points = 0\n",
    "        neg_points = 0\n",
    "        tokens = process_tweet(X_train[i][0], tokenizer, stemmer)\n",
    "        tokens = list(dict.fromkeys(tokens))\n",
    "        for token in tokens:\n",
    "            pos_points += frequncies.get((token, 1.0), 0)\n",
    "            neg_points += frequncies.get((token, 0.0), 0)\n",
    "        X_train_features[i, :] = np.array((pos_points, neg_points, 1))    "
   ]
  },
  {
   "cell_type": "code",
   "execution_count": 108,
   "id": "d8c4c4f7",
   "metadata": {},
   "outputs": [
    {
     "data": {
      "text/plain": [
       "array([[2.070e+02, 6.520e+02, 1.000e+00],\n",
       "       [2.915e+03, 7.400e+01, 1.000e+00],\n",
       "       [1.280e+02, 3.426e+03, 1.000e+00],\n",
       "       ...,\n",
       "       [1.100e+01, 3.218e+03, 1.000e+00],\n",
       "       [2.467e+03, 4.000e+00, 1.000e+00],\n",
       "       [2.667e+03, 2.660e+02, 1.000e+00]])"
      ]
     },
     "execution_count": 108,
     "metadata": {},
     "output_type": "execute_result"
    }
   ],
   "source": [
    "X_train_features"
   ]
  },
  {
   "cell_type": "code",
   "execution_count": null,
   "id": "7e643478",
   "metadata": {},
   "outputs": [],
   "source": []
  }
 ],
 "metadata": {
  "kernelspec": {
   "display_name": "Python 3",
   "language": "python",
   "name": "python3"
  },
  "language_info": {
   "codemirror_mode": {
    "name": "ipython",
    "version": 3
   },
   "file_extension": ".py",
   "mimetype": "text/x-python",
   "name": "python",
   "nbconvert_exporter": "python",
   "pygments_lexer": "ipython3",
   "version": "3.7.10"
  }
 },
 "nbformat": 4,
 "nbformat_minor": 5
}
